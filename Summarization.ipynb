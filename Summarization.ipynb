{
 "cells": [
  {
   "cell_type": "markdown",
   "id": "f3d3ffe5",
   "metadata": {},
   "source": [
    "### Text summarization using Lanchain"
   ]
  },
  {
   "cell_type": "code",
   "execution_count": 1,
   "id": "672db1da",
   "metadata": {},
   "outputs": [],
   "source": [
    "## Read the API key from a file\n",
    "with open('secrete.txt', 'r') as file:\n",
    "    Api_key = file.read().strip()\n",
    "from langchain_google_genai import ChatGoogleGenerativeAI\n",
    "# Set the environment variable for Google API\n",
    "import os\n",
    "GOOGLE_API_KEY = Api_key\n",
    "os.environ[\"GOOGLE_API_KEY\"] = GOOGLE_API_KEY\n",
    "from langchain_google_genai import ChatGoogleGenerativeAI\n",
    "model = ChatGoogleGenerativeAI(model=\"gemini-pro\", temperature=0.3)"
   ]
  },
  {
   "cell_type": "code",
   "execution_count": 2,
   "id": "b134961b",
   "metadata": {},
   "outputs": [],
   "source": [
    "from langchain.schema import(\n",
    "    AIMessage,\n",
    "    HumanMessage,\n",
    "    SystemMessage\n",
    ")"
   ]
  },
  {
   "cell_type": "code",
   "execution_count": 4,
   "id": "3af4091f",
   "metadata": {},
   "outputs": [],
   "source": [
    "speech=\" Ladies and gentlemen, esteemed guests, and fellow citizens of our interconnected worldToday, as we gather in unity, it is paramount that we recognize the undeniable truth – the challenges we face transcend borders and demand a collective response. In an era where our destinies are intertwined, where advancements in one part of the globe resonate across continents, we must embrace a shared responsibility for shaping the course of our collective future.The world stands at a crossroads. We face challenges that demand a united front. From climate change casting a shadow over the very fabric of our planet to the persistent echoes of inequality that reverberate through societies, the time has come for us to rise above individual interests and forge a path of cooperation.In the face of environmental crises, we cannot afford to see nations as isolated entities. The very air we breathe, the water we drink, and the ecosystems we depend on recognize no borders. Our response to climate change must be a testament to the power of collaboration. We must work hand in hand to implement sustainable practices, invest in renewable energy, and safeguard the delicate balance of our planet for generations to come.Yet, the challenges extend beyond the environmental realm. Inequality, both within and among nations, remains a stark reality. The pursuit of justice and equal opportunities must be a global endeavor. We must dismantle barriers that perpetuate discrimination, empower marginalized communities, and ensure that the benefits of progress are shared equitably. In doing so, we not only uplift individuals but strengthen the very fabric of our global society.Technology, a force that connects us in unprecedented ways, also presents challenges that demand our collective wisdom. We must harness the potential of innovation for the greater good, ensuring that technological advancements contribute to the well-being of humanity as a whole. Ethical considerations, privacy concerns, and the responsible use of artificial intelligence are critical aspects that warrant global dialogue and cooperation.Education, the cornerstone of progress, should be accessible to all, irrespective of geographic location or socio-economic status. The empowerment of minds through knowledge is the key to unlocking the vast potential within our global community. Investments in education, both formal and informal, serve as investments in the future prosperity of our shared world.As we navigate these complex issues, let us remember the words of a wise leader who envisioned a world where individuals are judged not by the color of their skin but by the content of their character. Let us draw inspiration from the triumphs of the past, recognizing that the pursuit of a better world is an enduring journey that requires perseverance, collaboration, and a commitment to shared values.In conclusion, let this be a call to action – a call to transcend boundaries, to bridge divides, and to forge a path of cooperation that leads us to a future where the well-being of one is intimately tied to the well-being of all. As we embark on this collective journey, let us remember that our shared humanity is a powerful force that can overcome any challenge and illuminate the path towards a brighter, more equitable, and sustainable future.Thank you.\""
   ]
  },
  {
   "cell_type": "code",
   "execution_count": 5,
   "id": "177742a3",
   "metadata": {
    "scrolled": true
   },
   "outputs": [
    {
     "name": "stdout",
     "output_type": "stream",
     "text": [
      " Ladies and gentlemen, esteemed guests, and fellow citizens of our interconnected worldToday, as we gather in unity, it is paramount that we recognize the undeniable truth – the challenges we face transcend borders and demand a collective response. In an era where our destinies are intertwined, where advancements in one part of the globe resonate across continents, we must embrace a shared responsibility for shaping the course of our collective future.The world stands at a crossroads. We face challenges that demand a united front. From climate change casting a shadow over the very fabric of our planet to the persistent echoes of inequality that reverberate through societies, the time has come for us to rise above individual interests and forge a path of cooperation.In the face of environmental crises, we cannot afford to see nations as isolated entities. The very air we breathe, the water we drink, and the ecosystems we depend on recognize no borders. Our response to climate change must be a testament to the power of collaboration. We must work hand in hand to implement sustainable practices, invest in renewable energy, and safeguard the delicate balance of our planet for generations to come.Yet, the challenges extend beyond the environmental realm. Inequality, both within and among nations, remains a stark reality. The pursuit of justice and equal opportunities must be a global endeavor. We must dismantle barriers that perpetuate discrimination, empower marginalized communities, and ensure that the benefits of progress are shared equitably. In doing so, we not only uplift individuals but strengthen the very fabric of our global society.Technology, a force that connects us in unprecedented ways, also presents challenges that demand our collective wisdom. We must harness the potential of innovation for the greater good, ensuring that technological advancements contribute to the well-being of humanity as a whole. Ethical considerations, privacy concerns, and the responsible use of artificial intelligence are critical aspects that warrant global dialogue and cooperation.Education, the cornerstone of progress, should be accessible to all, irrespective of geographic location or socio-economic status. The empowerment of minds through knowledge is the key to unlocking the vast potential within our global community. Investments in education, both formal and informal, serve as investments in the future prosperity of our shared world.As we navigate these complex issues, let us remember the words of a wise leader who envisioned a world where individuals are judged not by the color of their skin but by the content of their character. Let us draw inspiration from the triumphs of the past, recognizing that the pursuit of a better world is an enduring journey that requires perseverance, collaboration, and a commitment to shared values.In conclusion, let this be a call to action – a call to transcend boundaries, to bridge divides, and to forge a path of cooperation that leads us to a future where the well-being of one is intimately tied to the well-being of all. As we embark on this collective journey, let us remember that our shared humanity is a powerful force that can overcome any challenge and illuminate the path towards a brighter, more equitable, and sustainable future.Thank you.\n"
     ]
    }
   ],
   "source": [
    "print(speech)"
   ]
  },
  {
   "cell_type": "code",
   "execution_count": 6,
   "id": "54cead42",
   "metadata": {},
   "outputs": [],
   "source": [
    "chat_messages=[\n",
    "    SystemMessage(content='You are a proficient assistant specializing in the art of condensing speeches into concise summaries'),\n",
    "    HumanMessage(content=f'Kindly offer a brief and compact summary for the provided speech\\n TEXT: {speech}')\n",
    "]\n",
    "\n",
    "llm = ChatGoogleGenerativeAI(model=\"gemini-pro\",convert_system_message_to_human=True)"
   ]
  },
  {
   "cell_type": "code",
   "execution_count": 7,
   "id": "a68260d9",
   "metadata": {},
   "outputs": [
    {
     "data": {
      "text/plain": [
       "611"
      ]
     },
     "execution_count": 7,
     "metadata": {},
     "output_type": "execute_result"
    }
   ],
   "source": [
    "##total tokens\n",
    "llm.get_num_tokens(speech)"
   ]
  },
  {
   "cell_type": "code",
   "execution_count": 8,
   "id": "f0bccd0d",
   "metadata": {},
   "outputs": [
    {
     "name": "stderr",
     "output_type": "stream",
     "text": [
      "C:\\Users\\pokhr\\AppData\\Local\\Programs\\Python\\Python311\\Lib\\site-packages\\langchain_core\\_api\\deprecation.py:117: LangChainDeprecationWarning: The function `__call__` was deprecated in LangChain 0.1.7 and will be removed in 0.2.0. Use invoke instead.\n",
      "  warn_deprecated(\n"
     ]
    }
   ],
   "source": [
    "response=llm(chat_messages).content"
   ]
  },
  {
   "cell_type": "code",
   "execution_count": 9,
   "id": "fe0a8f14",
   "metadata": {},
   "outputs": [
    {
     "name": "stdout",
     "output_type": "stream",
     "text": [
      "Summary of Speech:\n",
      "\n",
      "The speech emphasizes the interconnectedness of global challenges and the need for collective action to address them. It calls for cooperation and unity to tackle issues such as climate change, inequality, technological advancements, and education. The speaker stresses the importance of transcending borders, working together to safeguard the planet, promoting justice and equity, harnessing technology responsibly, and investing in education for a shared prosperous future. The speech encourages individuals to rise above individual interests and work towards a better world where everyone's well-being is intertwined.\n"
     ]
    }
   ],
   "source": [
    "print(str(response))"
   ]
  },
  {
   "cell_type": "markdown",
   "id": "d427f389",
   "metadata": {},
   "source": [
    "###  Text summarization using Lanchain with prompt"
   ]
  },
  {
   "cell_type": "code",
   "execution_count": 10,
   "id": "e6dd4898",
   "metadata": {},
   "outputs": [],
   "source": [
    "from langchain.chains import LLMChain\n",
    "from langchain import PromptTemplate"
   ]
  },
  {
   "cell_type": "code",
   "execution_count": 61,
   "id": "93e9b89e",
   "metadata": {},
   "outputs": [],
   "source": [
    "generic_template='''\n",
    "Write a summary of the following speech:\n",
    "Speech : `{speech}`\n",
    "Translate the precise summary to {language}.\n",
    "\n",
    "'''\n",
    "prompt=PromptTemplate(\n",
    "    input_variables=['speech','language'],\n",
    "    template=generic_template\n",
    ")"
   ]
  },
  {
   "cell_type": "code",
   "execution_count": 77,
   "id": "94bc8e02",
   "metadata": {},
   "outputs": [],
   "source": [
    "llm_chain=LLMChain(llm=llm,prompt=prompt)\n",
    "summary=llm_chain.run({'speech': speech, 'language': 'Hindi'}) ##Nepali is not supproted "
   ]
  },
  {
   "cell_type": "code",
   "execution_count": 73,
   "id": "d8286ed8",
   "metadata": {},
   "outputs": [
    {
     "name": "stdout",
     "output_type": "stream",
     "text": [
      "भाषण : ` महिलाओं और सज्जनों, सम्मानित अतिथियों और हमारी आपस में जुड़ी हुई दुनिया के साथी नागरिकों, आज जब हम एकता में इकट्ठा हुए हैं, यह सर्वोपरि आवश्यक है कि हम इस अकाट्य सत्य को स्वीकार करें - हम जिन चुनौतियों का सामना कर रहे हैं वे सीमाओं से परे हैं और सामूहिक प्रतिक्रिया माँगती हैं। ऐसे युग में जहाँ हमारे भाग्य आपस में जुड़े हुए हैं, जहाँ दुनिया के एक हिस्से की उन्नति अन्य महाद्वीपों में प्रतिध्वनित होती है, हमें अपने सामूहिक भविष्य के मार्ग को आकार देने के लिए साझा जिम्मेदारी स्वीकार करनी चाहिए। दुनिया एक चौराहे पर खड़ी है। हम ऐसी चुनौतियों का सामना कर रहे हैं जिनके लिए एकजुट मोर्चा बनाना आवश्यक है। जलवायु परिवर्तन से लेकर हमारे ग्रह को नुकसान पहुँचा रहा है, लेकर असमानता की निरंतर गूँज जो समाजों में प्रतिध्वनित होती है, समय आ गया है कि हम व्यक्तिगत हितों से ऊपर उठें और सहयोग का मार्ग प्रशस्त करें। पर्यावरणीय संकटों के सामने आकर हम राष्ट्रों को पृथक इकाइयों के रूप में नहीं देख सकते। जिस हवा में हम साँस लेते हैं, जिस पानी को हम पीते हैं और जिस पारिस्थितिकी तंत्र पर हम निर्भर हैं उसकी कोई सीमा नहीं है। जलवायु परिवर्तन के प्रति हमारी प्रतिक्रिया हमें सहयोग की शक्ति का प्रमाण दिखाना चाहिए। हमें सतत प्रथाओं को लागू करने, नवीकरणीय ऊर्जा में निवेश करने और आने वाली पीढ़ियों के लिए हमारे ग्रह के संवेदनशील संतुलन की सुरक्षा के लिए साथ-साथ काम करना चाहिए। फिर भी चुनौतियाँ पर्यावरणीय क्षेत्र से आगे तक फैली हुई हैं। राष्ट्रों के भीतर और उनके बीच असमानता एक कटु सच्चाई बनी हुई है। न्याय और समान अवसरों की खोज एक वैश्विक प्रयास होना चाहिए। हमें उन बाधाओं को तोड़ना चाहिए जो भेदभाव को कायम रखती हैं, हाशिए वाले समुदायों को सशक्त बनाती हैं, और यह सुनिश्चित करती हैं कि प्रगति के लाभों को समान रूप से साझा किया जाए। ऐसा करने में, हम न केवल व्यक्तियों का उत्थान करते हैं बल्कि हमारे वैश्विक समाज के ताने-बाने को भी मजबूत करते हैं। प्रौद्योगिकी, एक ऐसा बल जो हमें अभूतपूर्व तरीके से जोड़ता है, वह भी चुनौतियाँ प्रस्तुत करता है जिनके लिए हमें सामूहिक रूप से अपनी बुद्धिमत्ता की आवश्यकता होती है। हमें मानवता की भलाई में योगदान देने के लिए नवाचार की क्षमता का उपयोग करना चाहिए, यह सुनिश्चित करते हुए कि तकनीकी उन्नति पूरी मानवता की भलाई में योगदान दे। नैतिक विचार, गोपनीयता चिंताएँ और कृत्रिम बुद्धिमत्ता का जिम्मेदार उपयोग महत्वपूर्ण पहलू हैं जो वैश्विक संवाद और सहयोग की माँग करते हैं। शिक्षा, प्रगति की आधारशिला, भौगोलिक स्थान या सामाजिक-आर्थिक स्थिति की परवाह किए बिना सभी के लिए सुलभ होनी चाहिए। ज्ञान के माध्यम से दिमागों का सशक्तिकरण हमारे वैश्विक समुदाय के भीतर विशाल क्षमता को अनलॉक करने की कुंजी है। शिक्षा में निवेश, औपचारिक और अनौपचारिक दोनों, हमारे साझा विश्व की भविष्य की समृद्धि में निवेश के रूप में काम करते हैं। इन जटिल मुद्दों पर चलते हुए, आइए हम एक बुद्धिमान नेता के शब्दों को याद रखें जिसने एक ऐसी दुनिया की कल्पना की जहाँ व्यक्तियों को उनकी त्वचा के रंग से नहीं बल्कि उनके चरित्र की सामग्री से आँका जाता है। आइए हम अतीत की जीत से प्रेरणा लें, यह मानते हुए कि एक बेहतर दुनिया की खोज एक ऐसी स्थायी यात्रा है जिसमें दृढ़ता, सहयोग और साझा मूल्यों के प्रति प्रतिबद्धता की आवश्यकता होती है। अंत में, इसे एक कार्यवाही के लिए बुलावा होने दें - सीमाओं से परे जाने के लिए, विभाजन को पाटने के लिए, और सहयोग का एक रास्ता बनाने के लिए जो हमें एक ऐसे भविष्य की ओर ले जाए जहाँ एक व्यक्ति की भलाई सभी की भलाई से आंतरिक रूप से जुड़ी हो। जैसा कि हम इस सामूहिक यात्रा पर निकलते हैं, आइए हम याद रखें कि हमारी साझा मानवता एक शक्तिशाली शक्ति है जो किसी भी चुनौती पर काबू पा सकती है और एक उज्ज्वल, अधिक न्यायसंगत और टिकाऊ भविष्य की ओर मार्ग को रोशन कर सकती है। धन्यवाद।`\n"
     ]
    }
   ],
   "source": [
    "print(str(summary))"
   ]
  },
  {
   "cell_type": "markdown",
   "id": "a3aca7dc",
   "metadata": {},
   "source": [
    "### Pdf summarization using Lanchain with chain type stuff"
   ]
  },
  {
   "cell_type": "code",
   "execution_count": 22,
   "id": "e653b553",
   "metadata": {},
   "outputs": [],
   "source": [
    "from langchain.chains.summarize import load_summarize_chain\n",
    "from langchain.docstore.document import Document"
   ]
  },
  {
   "cell_type": "code",
   "execution_count": 17,
   "id": "e0f05472",
   "metadata": {},
   "outputs": [],
   "source": [
    "from PyPDF2 import PdfReader"
   ]
  },
  {
   "cell_type": "code",
   "execution_count": 18,
   "id": "2109e963",
   "metadata": {},
   "outputs": [],
   "source": [
    "# provide the path of  pdf file/files.\n",
    "pdfreader = PdfReader('abc.pdf')"
   ]
  },
  {
   "cell_type": "code",
   "execution_count": 19,
   "id": "adb79979",
   "metadata": {},
   "outputs": [],
   "source": [
    "from typing_extensions import Concatenate\n",
    "# read text from pdf\n",
    "text = ''\n",
    "for i, page in enumerate(pdfreader.pages):\n",
    "    content = page.extract_text()\n",
    "    if content:\n",
    "        text += content"
   ]
  },
  {
   "cell_type": "code",
   "execution_count": null,
   "id": "e0068294",
   "metadata": {},
   "outputs": [],
   "source": [
    "#text  #You can see text"
   ]
  },
  {
   "cell_type": "code",
   "execution_count": 25,
   "id": "768ec873",
   "metadata": {},
   "outputs": [],
   "source": [
    "docs = [Document(page_content=text)]\n"
   ]
  },
  {
   "cell_type": "code",
   "execution_count": 78,
   "id": "c0e8addc",
   "metadata": {},
   "outputs": [],
   "source": [
    "template = '''Provide a brief and condensed summary of the text that follows.\n",
    "Speech: `{text}`\n",
    "'''\n",
    "prompt = PromptTemplate(\n",
    "    input_variables=['text'],\n",
    "    template=template\n",
    ")"
   ]
  },
  {
   "cell_type": "code",
   "execution_count": 26,
   "id": "ffa15f0f",
   "metadata": {},
   "outputs": [],
   "source": [
    "chain = load_summarize_chain(\n",
    "    llm,\n",
    "    chain_type='stuff',\n",
    "    prompt=prompt,\n",
    "    verbose=False\n",
    ")\n",
    "output_summary = chain.run(docs)"
   ]
  },
  {
   "cell_type": "code",
   "execution_count": 28,
   "id": "71f297cc",
   "metadata": {},
   "outputs": [
    {
     "name": "stdout",
     "output_type": "stream",
     "text": [
      "**Summary of Report: Alternative Energy and Effective Implementation of EIA**\n",
      "\n",
      "**Key Findings**\n",
      "- Nepal has a huge energy deficit, leading to the import of petroleum products worth billions of Nepali Rupees.\n",
      "- Renewable energy technologies (RETs) offer a viable and sustainable solution to address Nepal's energy needs, including solar, wind, and bio-diesel.\n",
      "- Costs for solar PV and wind power are decreasing due to technology advancements and increased manufacturing in China.\n",
      "- Nepal's potential for wind energy is significant, with higher wind speeds during the dry season when hydropower generation is lower.\n",
      "- Production of bio-diesel from Jatropha is feasible in Nepal, but the cost of production is still relatively high compared to conventional diesel.\n",
      "- RET development in Nepal faces challenges related to policy barriers, technical limitations, human resource constraints, and lack of infrastructure, affordability, and awareness.\n",
      "- Energy cooperatives, decentralized energy resources, and microfinancing can promote RET development in rural areas.\n",
      "- Capacity building, awareness programs, and favorable policies are crucial for advancing RETs in Nepal.\n",
      "- Current EIA and IEE processes in Nepal have limitations, including lack of accreditation for experts and consulting firms, ineffective monitoring, and inadequate consideration of socio-economic impacts.\n",
      "- Recommendations for effective EIA implementation include establishing a one-window approach, decentralizing environmental administration, and strengthening human capacity.\n",
      "\n",
      "**Conclusion:**\n",
      "Nepal has immense potential for RETs, particularly solar, wind, and bio-diesel. However, addressing challenges and implementing effective policies and strategies are essential to fully harness these renewable energy sources and mitigate the country's energy deficit. Additionally, improving the EIA process can ensure sustainable development and minimize potential environmental impacts associated with development projects.\n"
     ]
    }
   ],
   "source": [
    "print(str(output_summary))"
   ]
  },
  {
   "cell_type": "code",
   "execution_count": null,
   "id": "658c85d3",
   "metadata": {},
   "outputs": [],
   "source": []
  },
  {
   "cell_type": "markdown",
   "id": "40fa75a9",
   "metadata": {},
   "source": [
    "### Summarizing Large Documents Using Map Reduce"
   ]
  },
  {
   "cell_type": "code",
   "execution_count": 44,
   "id": "507f7a2a",
   "metadata": {},
   "outputs": [],
   "source": [
    "from langchain.chains.summarize import load_summarize_chain\n",
    "from langchain.text_splitter import RecursiveCharacterTextSplitter"
   ]
  },
  {
   "cell_type": "code",
   "execution_count": 39,
   "id": "b7378dde",
   "metadata": {},
   "outputs": [],
   "source": [
    "final_combine_prompt='''\n",
    "Provide a final summary of the entire text with these important points.\n",
    "Add a Generic Motivational Title,\n",
    "Start the precise summary with an introduction and provide the\n",
    "summary in number points for the speech.\n",
    "Speech: `{text}`\n",
    "'''\n",
    "final_combine_prompt_template=PromptTemplate(input_variables=['text'],\n",
    "                                             template=final_combine_prompt)"
   ]
  },
  {
   "cell_type": "code",
   "execution_count": 41,
   "id": "843077c9",
   "metadata": {},
   "outputs": [],
   "source": [
    "chunks_prompt=\"\"\"\n",
    "Please summarize the below :\n",
    "Speech:`{text}'\n",
    "Summary:\n",
    "\"\"\"\n",
    "map_prompt_template=PromptTemplate(input_variables=['text'],\n",
    "                                    template=chunks_prompt)"
   ]
  },
  {
   "cell_type": "code",
   "execution_count": 45,
   "id": "c4f3506c",
   "metadata": {},
   "outputs": [],
   "source": [
    "text_splitter = RecursiveCharacterTextSplitter(chunk_size=10000, chunk_overlap=20)\n",
    "chunks = text_splitter.create_documents([text])"
   ]
  },
  {
   "cell_type": "code",
   "execution_count": 46,
   "id": "deeb4c5d",
   "metadata": {},
   "outputs": [
    {
     "name": "stderr",
     "output_type": "stream",
     "text": [
      "Token indices sequence length is longer than the specified maximum sequence length for this model (3996 > 1024). Running this sequence through the model will result in indexing errors\n"
     ]
    }
   ],
   "source": [
    "summary_chain = load_summarize_chain(\n",
    "    llm=llm,\n",
    "    chain_type='map_reduce',\n",
    "    map_prompt=map_prompt_template,\n",
    "    combine_prompt=final_combine_prompt_template,\n",
    "    verbose=False\n",
    ")\n",
    "output = summary_chain.run(chunks)"
   ]
  },
  {
   "cell_type": "code",
   "execution_count": 47,
   "id": "1ad1de43",
   "metadata": {},
   "outputs": [
    {
     "name": "stdout",
     "output_type": "stream",
     "text": [
      "Title: **\"Unleashing Renewable Energy and Embracing Environmental Impact Assessment: A Path to Sustainable Development in Nepal\"**\n",
      "\n",
      "Introduction:\n",
      "The speech highlights the significance of renewable energy exploration and effective implementation of Environmental Impact Assessment (EIA) for sustainable development in Nepal.\n",
      "\n",
      "Summary:\n",
      "\n",
      "1. **Renewable Energy Potential:**\n",
      "   - Nepal's untapped renewable energy resources offer solutions to the energy deficit and pave the way for sustainable development.\n",
      "\n",
      "2. **Cost Analysis:**\n",
      "   - Comparative analysis of alternative energy sources reveals solar, wind, and biodiesel's economic viability.\n",
      "\n",
      "3. **Challenges:**\n",
      "   - Public awareness, financing constraints, and grid infrastructure impede renewable energy development.\n",
      "\n",
      "4. **Recommendations:**\n",
      "   - Public education, consumption-based subsidies, private investment incentives, and grid infrastructure improvements are crucial.\n",
      "\n",
      "5. **EIA in Nepal:**\n",
      "   - EIA is a critical tool for assessing the environmental impacts of development projects.\n",
      "\n",
      "6. **EIA Challenges:**\n",
      "   - Insufficient coordination, limited capacity, and lack of public participation hinder effective EIA implementation.\n",
      "\n",
      "7. **Recommendations:**\n",
      "   - Enhanced collaboration, decentralized environmental administration, accredited experts, and public outreach programs are suggested.\n",
      "\n",
      "Conclusion:\n",
      "Nepal's transition to renewable energy and effective EIA implementation are vital for sustainable development. Addressing challenges and implementing the recommendations outlined will lead Nepal toward a more sustainable and environmentally friendly future.\n"
     ]
    }
   ],
   "source": [
    "print(str(output))"
   ]
  },
  {
   "cell_type": "code",
   "execution_count": null,
   "id": "f7aeae9d",
   "metadata": {},
   "outputs": [],
   "source": []
  }
 ],
 "metadata": {
  "kernelspec": {
   "display_name": "Python 3 (ipykernel)",
   "language": "python",
   "name": "python3"
  },
  "language_info": {
   "codemirror_mode": {
    "name": "ipython",
    "version": 3
   },
   "file_extension": ".py",
   "mimetype": "text/x-python",
   "name": "python",
   "nbconvert_exporter": "python",
   "pygments_lexer": "ipython3",
   "version": "3.11.0"
  }
 },
 "nbformat": 4,
 "nbformat_minor": 5
}
